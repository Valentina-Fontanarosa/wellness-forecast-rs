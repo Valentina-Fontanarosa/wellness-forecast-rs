{
  "nbformat": 4,
  "nbformat_minor": 0,
  "metadata": {
    "colab": {
      "provenance": [],
      "gpuType": "T4",
      "authorship_tag": "ABX9TyOrslMnq80fi5C/oAx6Ecxt",
      "include_colab_link": true
    },
    "kernelspec": {
      "name": "python3",
      "display_name": "Python 3"
    },
    "language_info": {
      "name": "python"
    },
    "accelerator": "GPU"
  },
  "cells": [
    {
      "cell_type": "markdown",
      "metadata": {
        "id": "view-in-github",
        "colab_type": "text"
      },
      "source": [
        "<a href=\"https://colab.research.google.com/github/Valentina-Fontanarosa/wellness-forecast-rs/blob/main/Modello_previsione_benessere_giornaliero.ipynb\" target=\"_parent\"><img src=\"https://colab.research.google.com/assets/colab-badge.svg\" alt=\"Open In Colab\"/></a>"
      ]
    },
    {
      "cell_type": "code",
      "execution_count": 1,
      "metadata": {
        "colab": {
          "base_uri": "https://localhost:8080/"
        },
        "id": "BiwCioXqhoap",
        "outputId": "2b80aed2-5fae-4dd1-fd1d-09811780a310"
      },
      "outputs": [
        {
          "output_type": "stream",
          "name": "stdout",
          "text": [
            "Requirement already satisfied: numpy in /usr/local/lib/python3.11/dist-packages (2.0.2)\n",
            "Requirement already satisfied: pandas in /usr/local/lib/python3.11/dist-packages (2.2.2)\n",
            "Requirement already satisfied: scipy in /usr/local/lib/python3.11/dist-packages (1.14.1)\n",
            "Requirement already satisfied: matplotlib in /usr/local/lib/python3.11/dist-packages (3.10.0)\n",
            "Requirement already satisfied: seaborn in /usr/local/lib/python3.11/dist-packages (0.13.2)\n",
            "Requirement already satisfied: bokeh in /usr/local/lib/python3.11/dist-packages (3.6.3)\n",
            "Requirement already satisfied: statsmodels in /usr/local/lib/python3.11/dist-packages (0.14.4)\n",
            "Requirement already satisfied: scikit-learn in /usr/local/lib/python3.11/dist-packages (1.6.1)\n",
            "Collecting utilsforecast\n",
            "  Downloading utilsforecast-0.2.12-py3-none-any.whl.metadata (7.6 kB)\n",
            "Requirement already satisfied: python-dateutil>=2.8.2 in /usr/local/lib/python3.11/dist-packages (from pandas) (2.8.2)\n",
            "Requirement already satisfied: pytz>=2020.1 in /usr/local/lib/python3.11/dist-packages (from pandas) (2025.2)\n",
            "Requirement already satisfied: tzdata>=2022.7 in /usr/local/lib/python3.11/dist-packages (from pandas) (2025.2)\n",
            "Requirement already satisfied: contourpy>=1.0.1 in /usr/local/lib/python3.11/dist-packages (from matplotlib) (1.3.1)\n",
            "Requirement already satisfied: cycler>=0.10 in /usr/local/lib/python3.11/dist-packages (from matplotlib) (0.12.1)\n",
            "Requirement already satisfied: fonttools>=4.22.0 in /usr/local/lib/python3.11/dist-packages (from matplotlib) (4.57.0)\n",
            "Requirement already satisfied: kiwisolver>=1.3.1 in /usr/local/lib/python3.11/dist-packages (from matplotlib) (1.4.8)\n",
            "Requirement already satisfied: packaging>=20.0 in /usr/local/lib/python3.11/dist-packages (from matplotlib) (24.2)\n",
            "Requirement already satisfied: pillow>=8 in /usr/local/lib/python3.11/dist-packages (from matplotlib) (11.1.0)\n",
            "Requirement already satisfied: pyparsing>=2.3.1 in /usr/local/lib/python3.11/dist-packages (from matplotlib) (3.2.3)\n",
            "Requirement already satisfied: Jinja2>=2.9 in /usr/local/lib/python3.11/dist-packages (from bokeh) (3.1.6)\n",
            "Requirement already satisfied: PyYAML>=3.10 in /usr/local/lib/python3.11/dist-packages (from bokeh) (6.0.2)\n",
            "Requirement already satisfied: tornado>=6.2 in /usr/local/lib/python3.11/dist-packages (from bokeh) (6.4.2)\n",
            "Requirement already satisfied: xyzservices>=2021.09.1 in /usr/local/lib/python3.11/dist-packages (from bokeh) (2025.1.0)\n",
            "Requirement already satisfied: patsy>=0.5.6 in /usr/local/lib/python3.11/dist-packages (from statsmodels) (1.0.1)\n",
            "Requirement already satisfied: joblib>=1.2.0 in /usr/local/lib/python3.11/dist-packages (from scikit-learn) (1.4.2)\n",
            "Requirement already satisfied: threadpoolctl>=3.1.0 in /usr/local/lib/python3.11/dist-packages (from scikit-learn) (3.6.0)\n",
            "Requirement already satisfied: MarkupSafe>=2.0 in /usr/local/lib/python3.11/dist-packages (from Jinja2>=2.9->bokeh) (3.0.2)\n",
            "Requirement already satisfied: six>=1.5 in /usr/local/lib/python3.11/dist-packages (from python-dateutil>=2.8.2->pandas) (1.17.0)\n",
            "Downloading utilsforecast-0.2.12-py3-none-any.whl (42 kB)\n",
            "\u001b[2K   \u001b[90m━━━━━━━━━━━━━━━━━━━━━━━━━━━━━━━━━━━━━━━━\u001b[0m \u001b[32m42.2/42.2 kB\u001b[0m \u001b[31m1.1 MB/s\u001b[0m eta \u001b[36m0:00:00\u001b[0m\n",
            "\u001b[?25hInstalling collected packages: utilsforecast\n",
            "Successfully installed utilsforecast-0.2.12\n"
          ]
        }
      ],
      "source": [
        "!pip install numpy pandas scipy matplotlib seaborn bokeh statsmodels scikit-learn utilsforecast"
      ]
    },
    {
      "cell_type": "code",
      "source": [
        "import os\n",
        "os.environ[\"PYTORCH_ENABLE_MPS_FALLBACK\"] = \"1\"\n",
        "\n",
        "import os\n",
        "os.environ[\"KMP_DUPLICATE_LIB_OK\"] = \"TRUE\"\n",
        "\n",
        "# Hide warnings\n",
        "# ==============================================================================\n",
        "import warnings\n",
        "warnings.filterwarnings(\"ignore\")\n",
        "warnings.simplefilter(action='ignore', category=FutureWarning)\n",
        "\n",
        "# Handling and processing of Data\n",
        "# ==============================================================================\n",
        "import numpy as np\n",
        "import pandas as pd\n",
        "\n",
        "# Handling and processing of Data for Date (time)\n",
        "# ==============================================================================\n",
        "import datetime\n",
        "\n",
        "# Plot\n",
        "# ==============================================================================\n",
        "import matplotlib.pyplot as plt\n",
        "\n",
        "# Modelling with Sklearn\n",
        "# ==============================================================================\n",
        "from sklearn.linear_model import LinearRegression\n",
        "\n",
        "# Define the plot size\n",
        "# ==============================================================================\n",
        "from pylab import rcParams\n",
        "rcParams['figure.figsize'] = (18,7)\n"
      ],
      "metadata": {
        "id": "BwxfzB50iLeP"
      },
      "execution_count": 2,
      "outputs": []
    },
    {
      "cell_type": "markdown",
      "source": [
        "# **Caso di studio: previsione del benessere giornaliero di un utente**\n",
        "\n",
        "L’obiettivo di questo progetto è valutare se, attraverso modelli di deep learning per il forecasting, sia possibile prevedere il livello di benessere giornaliero di un utente, rappresentato da un indice sintetico chiamato ***activity index*** , utilizzando le informazioni relative alla durata del sonno e all’andamento dell’attività fisica, come la velocità del passo."
      ],
      "metadata": {
        "id": "p2FpeGcpiVIu"
      }
    },
    {
      "cell_type": "markdown",
      "source": [
        "# **Dataset originale**\n",
        "\n",
        "Il dataset originale è composto da 4 colonne:\n",
        "\n",
        "* `user_id`: identificatore dell'utente\n",
        "* `date`: giorno in cui è stato raccolto il dato aggregato\n",
        "* `data_type`: intero che identifica la tipologia di dato raccolto\n",
        "* `data_value`: valore associato al dato raccolto\n",
        "\n",
        "I diversi valori della variabile `data_type` si riferiscono a dati aggregati raccolti giornalmente dal dispositivo di ogni singolo utente e identificano le tipologie di dato in base al seguente schema:\n",
        "\n",
        "1.  numero totale di passi effettuati\n",
        "2.  peso (kg)\n",
        "3.  BMI (kg/m^2)\n",
        "4.  pressione sanguigna sistolica (mmHg)\n",
        "5.  velocità dell'onda sfigmica arteriosa (PWV), (m/s)\n",
        "6.  PWV healthiness (1: bassa, 2: sano, 3: troppo alta)\n",
        "7.  frequenza cardiaca media (bpm)\n",
        "8.  frequenza cardiaca minima (bpm)\n",
        "9.  frequenza cardiaca massima (bpm)\n",
        "10. durata del sonno (ore)\n",
        "11. orario in cui l'utente si è messo a letto\n",
        "12. orario in cui l'utente si è alzato dal letto\n",
        "13. numero di volte in cui l'utente si è svegliato durante il sonno\n",
        "14. durata del tempo in cui l'utente si è svegliato durante il sonno (ore)\n",
        "15. tempo impiegato dall'utente per addormentarsi (ore)\n",
        "16. tempo impiegato dall'utente per alzarsi dal letto (ore)\n",
        "17. durata di sonno leggero (ore)\n",
        "18. durata di sonno REM (ore)\n",
        "19. durata di sonno profondo (ore)\n",
        "20. tipo di attività\n",
        "21. durata dell'attività (secondi)\n",
        "22. calorie consumate durante l'attività\n",
        "23. frequenza cardiaca media durante l'attività (bpm)\n",
        "24. frequenza cardiaca minima durante l'attività (bpm)\n",
        "25. frequenza cardiaca massima durante l'attività (bpm)\n",
        "26. velocità dell'andatura dei passi (passi al minuto)\n",
        "27. velocità dell'andatura a distanza (km all'ora)"
      ],
      "metadata": {
        "id": "TPgOht33iWbN"
      }
    },
    {
      "cell_type": "code",
      "source": [
        "from google.colab import drive\n",
        "drive.mount('/content/drive')\n",
        "MYDRIVE = 'drive/MyDrive/Datasets/'"
      ],
      "metadata": {
        "colab": {
          "base_uri": "https://localhost:8080/"
        },
        "id": "GcYlEgB7idcC",
        "outputId": "09b5ae74-4f05-453f-ad88-3ae2898ff956"
      },
      "execution_count": 3,
      "outputs": [
        {
          "output_type": "stream",
          "name": "stdout",
          "text": [
            "Mounted at /content/drive\n"
          ]
        }
      ]
    },
    {
      "cell_type": "code",
      "source": [
        "df = pd.read_csv(MYDRIVE + \"data/data.csv\", usecols=[1, 2, 3, 4])\n",
        "df.columns = [\"user_id\", \"date_local\", \"data_type\", \"value\"]\n",
        "print(df.head())"
      ],
      "metadata": {
        "colab": {
          "base_uri": "https://localhost:8080/"
        },
        "id": "w1MKjk86if6y",
        "outputId": "54b0276d-0a3c-4f53-cff1-4192321c4aa8"
      },
      "execution_count": 4,
      "outputs": [
        {
          "output_type": "stream",
          "name": "stdout",
          "text": [
            "                                    user_id  date_local  data_type     value\n",
            "0  f3ca4233a8b87472465aa3e0bddc9cc32dd27152  2016-04-01          1  10037.00\n",
            "1  f3ca4233a8b87472465aa3e0bddc9cc32dd27152  2016-04-01          2     86.51\n",
            "2  f3ca4233a8b87472465aa3e0bddc9cc32dd27152  2016-04-01          3     28.91\n",
            "3  f3ca4233a8b87472465aa3e0bddc9cc32dd27152  2016-04-01          7    117.00\n",
            "4  f3ca4233a8b87472465aa3e0bddc9cc32dd27152  2016-04-01          8    117.00\n"
          ]
        }
      ]
    }
  ]
}